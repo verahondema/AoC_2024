{
 "cells": [
  {
   "cell_type": "code",
   "execution_count": 42,
   "metadata": {},
   "outputs": [
    {
     "name": "stdout",
     "output_type": "stream",
     "text": [
      "1341714\n"
     ]
    }
   ],
   "source": [
    "left_list = []\n",
    "right_list = []\n",
    "result_list = []\n",
    "\n",
    "with open('day1.txt', 'r') as file:\n",
    "    lines = file.readlines()\n",
    "    for line in lines:\n",
    "        numbers = line.strip().split()\n",
    "        left_list.append(int(numbers[0]))\n",
    "        right_list.append(int(numbers[1]))\n",
    "    left_numbers = left_list.sort()\n",
    "    right_numbers = right_list.sort()\n",
    "    \n",
    "    for left_number, right_number in zip(left_list, right_list):\n",
    "        result_list.append(abs(right_number - left_number))\n",
    "    total = sum(result_list)\n",
    "    print(total)"
   ]
  },
  {
   "cell_type": "code",
   "execution_count": 55,
   "metadata": {},
   "outputs": [
    {
     "name": "stdout",
     "output_type": "stream",
     "text": [
      "27384707\n"
     ]
    }
   ],
   "source": [
    "result_two_list = []\n",
    "count_list = []\n",
    "count_list.clear()\n",
    "result_two_list.clear()\n",
    "for left_number in left_list:\n",
    "    count_list.append(right_list.count(left_number))\n",
    "for left_number, count_number in zip(left_list, count_list):\n",
    "    result_two_list.append(left_number * count_number)\n",
    "total = sum(result_two_list)\n",
    "print(total)"
   ]
  }
 ],
 "metadata": {
  "kernelspec": {
   "display_name": "Python 3",
   "language": "python",
   "name": "python3"
  },
  "language_info": {
   "codemirror_mode": {
    "name": "ipython",
    "version": 3
   },
   "file_extension": ".py",
   "mimetype": "text/x-python",
   "name": "python",
   "nbconvert_exporter": "python",
   "pygments_lexer": "ipython3",
   "version": "3.12.5"
  }
 },
 "nbformat": 4,
 "nbformat_minor": 2
}
