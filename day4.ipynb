{
 "cells": [
  {
   "cell_type": "code",
   "execution_count": 28,
   "metadata": {},
   "outputs": [
    {
     "name": "stdout",
     "output_type": "stream",
     "text": [
      "Matrix: [['M' 'M' 'M' 'S' 'X' 'X' 'M' 'A' 'S' 'M']\n",
      " ['M' 'S' 'A' 'M' 'X' 'M' 'S' 'M' 'S' 'A']\n",
      " ['A' 'M' 'X' 'S' 'X' 'M' 'A' 'A' 'M' 'M']\n",
      " ['M' 'S' 'A' 'M' 'A' 'S' 'M' 'S' 'M' 'X']\n",
      " ['X' 'M' 'A' 'S' 'A' 'M' 'X' 'A' 'M' 'M']\n",
      " ['X' 'X' 'A' 'M' 'M' 'X' 'X' 'A' 'M' 'A']\n",
      " ['S' 'M' 'S' 'M' 'S' 'A' 'S' 'X' 'S' 'S']\n",
      " ['S' 'A' 'X' 'A' 'M' 'A' 'S' 'A' 'A' 'A']\n",
      " ['M' 'A' 'M' 'M' 'M' 'X' 'M' 'M' 'M' 'M']\n",
      " ['M' 'X' 'M' 'X' 'A' 'X' 'M' 'A' 'S' 'X']]\n",
      "Size of diagonal_list: 19\n",
      "Matrix flip: [['M' 'S' 'A' 'M' 'X' 'X' 'S' 'M' 'M' 'M']\n",
      " ['A' 'S' 'M' 'S' 'M' 'X' 'M' 'A' 'S' 'M']\n",
      " ['M' 'M' 'A' 'A' 'M' 'X' 'S' 'X' 'M' 'A']\n",
      " ['X' 'M' 'S' 'M' 'S' 'A' 'M' 'A' 'S' 'M']\n",
      " ['M' 'M' 'A' 'X' 'M' 'A' 'S' 'A' 'M' 'X']\n",
      " ['A' 'M' 'A' 'X' 'X' 'M' 'M' 'A' 'X' 'X']\n",
      " ['S' 'S' 'X' 'S' 'A' 'S' 'M' 'S' 'M' 'S']\n",
      " ['A' 'A' 'A' 'S' 'A' 'M' 'A' 'X' 'A' 'S']\n",
      " ['M' 'M' 'M' 'M' 'X' 'M' 'M' 'M' 'A' 'M']\n",
      " ['X' 'S' 'A' 'M' 'X' 'A' 'X' 'M' 'X' 'M']]\n",
      "diagonal: ['M' 'S' 'A' 'M' 'M' 'M' 'M' 'X' 'A' 'M']\n",
      "Size of diagonal_list: 38\n",
      "Size of diagonal_list: [['M', 'A', 'S', 'A', 'M', 'X', 'X', 'A', 'M'], ['M', 'M', 'X', 'S', 'X', 'A', 'S', 'A'], ['S', 'X', 'M', 'M', 'A', 'M', 'S'], ['X', 'M', 'A', 'S', 'M', 'A'], ['X', 'S', 'A', 'M', 'M'], ['M', 'M', 'M', 'X'], ['A', 'S', 'M'], ['S', 'A'], ['M'], ['M', 'S', 'X', 'M', 'A', 'X', 'S', 'A', 'M', 'X'], ['M', 'M', 'A', 'S', 'M', 'A', 'S', 'M', 'S'], ['A', 'S', 'A', 'M', 'S', 'A', 'M', 'A'], ['M', 'M', 'A', 'M', 'M', 'X', 'M'], ['X', 'X', 'S', 'A', 'M', 'X'], ['X', 'M', 'X', 'M', 'A'], ['S', 'A', 'M', 'X'], ['S', 'A', 'M'], ['M', 'X'], ['M'], ['S', 'M', 'A', 'S', 'A', 'M', 'S', 'A', 'M'], ['A', 'S', 'M', 'A', 'S', 'A', 'M', 'S'], ['M', 'M', 'X', 'M', 'A', 'X', 'S'], ['X', 'X', 'S', 'A', 'M', 'X'], ['X', 'M', 'X', 'S', 'X'], ['S', 'A', 'M', 'M'], ['M', 'S', 'A'], ['M', 'M'], ['M'], ['M', 'S', 'A', 'M', 'M', 'M', 'M', 'X', 'A', 'M'], ['A', 'M', 'S', 'X', 'X', 'S', 'A', 'M', 'X'], ['M', 'M', 'A', 'X', 'A', 'M', 'M', 'M'], ['X', 'M', 'A', 'S', 'A', 'M', 'X'], ['M', 'M', 'X', 'S', 'X', 'A'], ['A', 'S', 'A', 'M', 'X'], ['S', 'A', 'M', 'M'], ['A', 'M', 'A'], ['M', 'S'], ['X']]\n",
      "Size of Vertical lines: 10\n",
      "Size of Horizontal lines: 10\n",
      "Result: 18, Results list: ['XMAS', 'SAMX', 'XMAS', 'SAMX', 'XMAS', 'SAMX', 'XMAS', 'SAMX', 'SAMX', 'XMAS', 'SAMX', 'SAMX', 'SAMX', 'SAMX', 'SAMX', 'XMAS', 'SAMX', 'SAMX']\n"
     ]
    }
   ],
   "source": [
    "import re\n",
    "import numpy as np\n",
    "import regex\n",
    "\n",
    "horizontal_list = []\n",
    "vertical_list = []\n",
    "diagonal_list = []\n",
    "result_list = []\n",
    "\n",
    "with open('day4_test.txt', 'r') as file:\n",
    "    grid = [line.strip() for line in file]\n",
    "    columns = [\"\".join(row[i] for row in grid) for i in range(len(grid[0]))]\n",
    "    for column in columns:\n",
    "        #print(f\"Column: {column}\")\n",
    "        letters = re.findall(r\"[a-zA-Z]\", column)\n",
    "        vertical_list.append(letters)\n",
    "    for line in grid:\n",
    "        letters = re.findall(r\"[a-zA-Z]\", line)\n",
    "        #print(f\"Line: {letters}\")\n",
    "        horizontal_list.append(letters)\n",
    "\n",
    "matrix = np.array(horizontal_list)\n",
    "print(f\"Matrix: {matrix}\")\n",
    "rows, cols = matrix.shape\n",
    "\n",
    "# Positive offsets (above the main diagonal)\n",
    "for k in range(1, cols):\n",
    "    diagonal_list.append((np.diag(matrix, k=k)).tolist())\n",
    "\n",
    "# Main diagonal\n",
    "diagonal_list.append((np.diag(matrix, k=0)).tolist())\n",
    "\n",
    "# Negative offsets (below the main diagonal)\n",
    "for k in range(-1, -rows, -1):\n",
    "    diagonal_list.append((np.diag(matrix, k=k)).tolist())\n",
    "\n",
    "print(f\"Size of diagonal_list: {len(diagonal_list)}\")\n",
    "matrix_flip = np.flip(matrix, axis=1)\n",
    "print(f\"Matrix flip: {matrix_flip}\")\n",
    "rows, cols = matrix_flip.shape\n",
    "\n",
    "# Positive offsets (above the main diagonal)\n",
    "for k in range(1, cols):\n",
    "    diagonal_list.append((np.diag(matrix_flip, k=k)).tolist())\n",
    "\n",
    "# Main diagonal\n",
    "diagonal_list.append((np.diag(matrix_flip, k=0)).tolist())\n",
    "print(f\"diagonal: {np.diag(matrix_flip, k=0)}\")\n",
    "\n",
    "# Negative offsets (below the main diagonal)\n",
    "for k in range(-1, -rows, -1):\n",
    "    diagonal_list.append((np.diag(matrix_flip, k=k)).tolist())\n",
    "\n",
    "print(f\"Size of diagonal_list: {len(diagonal_list)}\")\n",
    "print(f\"Size of diagonal_list: {diagonal_list}\")\n",
    "print(f\"Size of Vertical lines: {len(vertical_list)}\")\n",
    "print(f\"Size of Horizontal lines: {len(horizontal_list)}\")\n",
    "#print(f\"Diagonal lines: {diagonal_list}\")\n",
    "\n",
    "for horizontal_letters in horizontal_list:\n",
    "    horizontal_line = ''.join(horizontal_letters)\n",
    "    result_list.extend(regex.findall(r\"(XMAS|SAMX)\", horizontal_line, overlapped=True))\n",
    "\n",
    "for vertical_letters in vertical_list:\n",
    "    vertical_line = ''.join(vertical_letters)\n",
    "    result_list.extend(regex.findall(r\"(XMAS|SAMX)\", vertical_line, overlapped=True))\n",
    "\n",
    "for diagonal_letters in diagonal_list:\n",
    "    diagonal_line = ''.join(diagonal_letters)\n",
    "    result_list.extend(regex.findall(r\"(XMAS|SAMX)\", diagonal_line, overlapped=True))\n",
    "\n",
    "filtered_list = [item for item in result_list if item != []]\n",
    "\n",
    "print(f\"Result: {len(filtered_list)}, Results list: {filtered_list}\")\n"
   ]
  },
  {
   "cell_type": "code",
   "execution_count": 31,
   "metadata": {},
   "outputs": [
    {
     "name": "stdout",
     "output_type": "stream",
     "text": [
      "Horizontal letters: ['M', 'M', 'M', 'S', 'X', 'X', 'M', 'A', 'S', 'M'], index: 0, vertical list: ['M', 'M', 'A', 'M', 'X', 'X', 'S', 'S', 'M', 'M']\n",
      "Horizontal letters: ['M', 'S', 'A', 'M', 'X', 'M', 'S', 'M', 'S', 'A'], index: 1, vertical list: ['M', 'S', 'M', 'S', 'M', 'X', 'M', 'A', 'A', 'X']\n",
      "Horizontal letters: ['A', 'M', 'X', 'S', 'X', 'M', 'A', 'A', 'M', 'M'], index: 2, vertical list: ['M', 'A', 'X', 'A', 'A', 'A', 'S', 'X', 'M', 'M']\n",
      "Horizontal letters: ['M', 'S', 'A', 'M', 'A', 'S', 'M', 'S', 'M', 'X'], index: 3, vertical list: ['S', 'M', 'S', 'M', 'S', 'M', 'M', 'A', 'M', 'X']\n",
      "Horizontal letters: ['X', 'M', 'A', 'S', 'A', 'M', 'X', 'A', 'M', 'M'], index: 4, vertical list: ['X', 'X', 'X', 'A', 'A', 'M', 'S', 'M', 'M', 'A']\n",
      "Horizontal letters: ['X', 'X', 'A', 'M', 'M', 'X', 'X', 'A', 'M', 'A'], index: 5, vertical list: ['X', 'M', 'M', 'S', 'M', 'X', 'A', 'A', 'X', 'X']\n",
      "Horizontal letters: ['S', 'M', 'S', 'M', 'S', 'A', 'S', 'X', 'S', 'S'], index: 6, vertical list: ['M', 'S', 'A', 'M', 'X', 'X', 'S', 'S', 'M', 'M']\n",
      "Horizontal letters: ['S', 'A', 'X', 'A', 'M', 'A', 'S', 'A', 'A', 'A'], index: 7, vertical list: ['A', 'M', 'A', 'S', 'A', 'A', 'X', 'A', 'M', 'A']\n",
      "Horizontal letters: ['M', 'A', 'M', 'M', 'M', 'X', 'M', 'M', 'M', 'M'], index: 8, vertical list: ['S', 'S', 'M', 'M', 'M', 'M', 'S', 'A', 'M', 'S']\n",
      "Horizontal letters: ['M', 'X', 'M', 'X', 'A', 'X', 'M', 'A', 'S', 'X'], index: 9, vertical list: ['M', 'A', 'M', 'X', 'M', 'A', 'S', 'A', 'M', 'X']\n"
     ]
    }
   ],
   "source": [
    "for i, horizontal_letters in enumerate(horizontal_list):\n",
    "    print(f\"Horizontal letters: {horizontal_letters}, index: {i}, vertical list: {vertical_list[i]}\")"
   ]
  }
 ],
 "metadata": {
  "kernelspec": {
   "display_name": ".venv",
   "language": "python",
   "name": "python3"
  },
  "language_info": {
   "codemirror_mode": {
    "name": "ipython",
    "version": 3
   },
   "file_extension": ".py",
   "mimetype": "text/x-python",
   "name": "python",
   "nbconvert_exporter": "python",
   "pygments_lexer": "ipython3",
   "version": "3.13.0"
  }
 },
 "nbformat": 4,
 "nbformat_minor": 2
}
